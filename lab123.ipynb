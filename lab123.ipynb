{
  "nbformat": 4,
  "nbformat_minor": 0,
  "metadata": {
    "colab": {
      "provenance": [],
      "name": "lab 1.ipynb",
      "authorship_tag": "ABX9TyPIKI24hVzq2SCr/U708BSD",
      "include_colab_link": true
    },
    "kernelspec": {
      "name": "python3",
      "display_name": "Python 3"
    },
    "language_info": {
      "name": "python"
    }
  },
  "cells": [
    {
      "cell_type": "markdown",
      "metadata": {
        "id": "view-in-github",
        "colab_type": "text"
      },
      "source": [
        "<a href=\"https://colab.research.google.com/gist/Eldar1999/1448e24157a6898f96b14b6457d2c101/untitled3.ipynb\" target=\"_parent\"><img src=\"https://colab.research.google.com/assets/colab-badge.svg\" alt=\"Open In Colab\"/></a>"
      ]
    },
    {
      "cell_type": "markdown",
      "source": [
        "# Lab 1"
      ],
      "metadata": {
        "id": "wyPm0G1W53To"
      }
    },
    {
      "cell_type": "code",
      "execution_count": 8,
      "metadata": {
        "id": "0GAeZ_unj900"
      },
      "outputs": [],
      "source": [
        "import cv2\n",
        "import numpy as np\n",
        "import os\n",
        "import glob\n",
        "\n",
        "from google.colab.patches import cv2_imshow"
      ]
    },
    {
      "cell_type": "markdown",
      "source": [
        "1. Определение размеров шахматной доски\n",
        "2. Определение критериев для завершения поиска углов доски\n",
        "\n",
        "\n",
        "\n"
      ],
      "metadata": {
        "id": "6rThBZ3m5_tF"
      }
    },
    {
      "cell_type": "code",
      "source": [
        "\n",
        "CHECKERBOARD = (10,14)\n",
        "criteria = (cv2.TERM_CRITERIA_EPS + cv2.TERM_CRITERIA_MAX_ITER, 30, 0.001)"
      ],
      "metadata": {
        "id": "sZrTh8YruBif"
      },
      "execution_count": 9,
      "outputs": []
    },
    {
      "cell_type": "markdown",
      "source": [
        "3. Создание вектора для хранения векторов трехмерных точек для каждого изображения шахматной доски\n",
        "4. Создание вектора для хранения векторов 2D точек для каждого изображения шахматной доски"
      ],
      "metadata": {
        "id": "pLDhfhkV6QmF"
      }
    },
    {
      "cell_type": "code",
      "source": [
        "objpoints = []\n",
        "imgpoints = []\n",
        "\n"
      ],
      "metadata": {
        "id": "UK9HSm5GuE6x"
      },
      "execution_count": 10,
      "outputs": []
    },
    {
      "cell_type": "markdown",
      "source": [
        "5. Определение мировых координат для 3D точек\n"
      ],
      "metadata": {
        "id": "uosCMKOC6bat"
      }
    },
    {
      "cell_type": "code",
      "source": [
        "objp = np.zeros((1, CHECKERBOARD[0] * CHECKERBOARD[1], 3), np.float32)\n",
        "objp[0,:,:2] = np.mgrid[0:CHECKERBOARD[0], 0:CHECKERBOARD[1]].T.reshape(-1, 2)\n",
        "prev_img_shape = None"
      ],
      "metadata": {
        "id": "mQzF5-Td6fOQ"
      },
      "execution_count": 11,
      "outputs": []
    },
    {
      "cell_type": "markdown",
      "source": [
        "6. Извлечение пути отдельного изображения, хранящегося в данном каталоге"
      ],
      "metadata": {
        "id": "4i2Gi08h6pha"
      }
    },
    {
      "cell_type": "code",
      "source": [
        "images = glob.glob('./*.JPG')"
      ],
      "metadata": {
        "id": "o2RAIglDuHH-"
      },
      "execution_count": 12,
      "outputs": []
    },
    {
      "cell_type": "code",
      "source": [
        "for fname in images:\n",
        "    img = cv2.imread(fname)\n",
        "    gray = cv2.cvtColor(img,cv2.COLOR_BGR2GRAY)\n",
        "    # Найти углы шахматной доски\n",
        "    # Если на изображении найдено нужное количество углов, тогда ret = true\n",
        "    ret, corners = cv2.findChessboardCorners(gray, CHECKERBOARD, cv2.CALIB_CB_ADAPTIVE_THRESH + cv2.CALIB_CB_FAST_CHECK + cv2.CALIB_CB_NORMALIZE_IMAGE)\n",
        "    \n",
        "    \"\"\"\n",
        "    Если желаемый номер угла обнаружен,\n",
        "    уточняем координаты пикселей и отображаем\n",
        "    их на изображениях шахматной доски\n",
        "    \"\"\"\n",
        "    if ret == True:\n",
        "        objpoints.append(objp)\n",
        "        # уточнение координат пикселей для заданных 2d точек.\n",
        "        corners2 = cv2.cornerSubPix(gray, corners, (11,11),(-1,-1), criteria)\n",
        "      \n",
        "        imgpoints.append(corners2)\n",
        "\n",
        "        # Нарисовать и отобразить углы\n",
        "        img = cv2.drawChessboardCorners(img, CHECKERBOARD, corners2, ret)"
      ],
      "metadata": {
        "id": "DEY_McqbuL_D"
      },
      "execution_count": null,
      "outputs": []
    },
    {
      "cell_type": "code",
      "source": [
        "h,w = img.shape[:2]\n",
        "\n",
        "\"\"\"\n",
        "Выполнение калибровки камеры с помощью\n",
        "Передача значения известных трехмерных точек (объектов)\n",
        "и соответствующие пиксельные координаты\n",
        "обнаруженные углы (imgpoints)\n",
        "\"\"\"\n",
        "ret, mtx, dist, rvecs, tvecs = cv2.calibrateCamera(objpoints, imgpoints, gray.shape[::-1], None, None)\n",
        "\n",
        "print(\"Camera matrix : \")\n",
        "print(mtx)\n",
        "print(\"dist : \")\n",
        "print(dist)\n",
        "print(\"rvecs : \")\n",
        "print(rvecs)\n",
        "print(\"tvecs : \")\n",
        "print(tvecs)"
      ],
      "metadata": {
        "id": "a5DnPtImuPet"
      },
      "execution_count": null,
      "outputs": []
    }
  ]
}