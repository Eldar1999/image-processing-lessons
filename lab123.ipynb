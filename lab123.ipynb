{
  "nbformat": 4,
  "nbformat_minor": 0,
  "metadata": {
    "colab": {
      "provenance": [],
      "name": "lab 1.ipynb",
      "authorship_tag": "ABX9TyMe7hSXsSJiDeWhN2gSno07",
      "include_colab_link": true
    },
    "kernelspec": {
      "name": "python3",
      "display_name": "Python 3"
    },
    "language_info": {
      "name": "python"
    }
  },
  "cells": [
    {
      "cell_type": "markdown",
      "metadata": {
        "id": "view-in-github",
        "colab_type": "text"
      },
      "source": [
        "<a href=\"https://colab.research.google.com/github/Eldar1999/image-processing-lessons/blob/main/lab123.ipynb\" target=\"_parent\"><img src=\"https://colab.research.google.com/assets/colab-badge.svg\" alt=\"Open In Colab\"/></a>"
      ]
    },
    {
      "cell_type": "markdown",
      "source": [
        "0. Копирование изображений из репозитория"
      ],
      "metadata": {
        "id": "QHPYGc1d9XMz"
      }
    },
    {
      "cell_type": "code",
      "source": [
        "!git clone https://github.com/Eldar1999/image-processing-lessons"
      ],
      "metadata": {
        "colab": {
          "base_uri": "https://localhost:8080/"
        },
        "id": "1QE2tqBo8Ril",
        "outputId": "ea7c686c-f29b-4ccc-d12f-1d078a353334"
      },
      "execution_count": 2,
      "outputs": [
        {
          "output_type": "stream",
          "name": "stdout",
          "text": [
            "fatal: destination path 'image-processing-lessons' already exists and is not an empty directory.\n"
          ]
        }
      ]
    },
    {
      "cell_type": "markdown",
      "source": [
        "# Lab 1"
      ],
      "metadata": {
        "id": "wyPm0G1W53To"
      }
    },
    {
      "cell_type": "code",
      "execution_count": 3,
      "metadata": {
        "id": "0GAeZ_unj900"
      },
      "outputs": [],
      "source": [
        "import cv2\n",
        "import numpy as np\n",
        "import os\n",
        "import glob\n",
        "\n",
        "from google.colab.patches import cv2_imshow"
      ]
    },
    {
      "cell_type": "markdown",
      "source": [
        "1. Определение размеров шахматной доски\n",
        "2. Определение критериев для завершения поиска углов доски\n",
        "\n",
        "\n",
        "\n"
      ],
      "metadata": {
        "id": "6rThBZ3m5_tF"
      }
    },
    {
      "cell_type": "code",
      "source": [
        "\n",
        "CHECKERBOARD = (10,14)\n",
        "criteria = (cv2.TERM_CRITERIA_EPS + cv2.TERM_CRITERIA_MAX_ITER, 30, 0.001)"
      ],
      "metadata": {
        "id": "sZrTh8YruBif"
      },
      "execution_count": 4,
      "outputs": []
    },
    {
      "cell_type": "markdown",
      "source": [
        "3. Создание вектора для хранения векторов трехмерных точек для каждого изображения шахматной доски\n",
        "4. Создание вектора для хранения векторов 2D точек для каждого изображения шахматной доски"
      ],
      "metadata": {
        "id": "pLDhfhkV6QmF"
      }
    },
    {
      "cell_type": "code",
      "source": [
        "objpoints = []\n",
        "imgpoints = []\n",
        "\n"
      ],
      "metadata": {
        "id": "UK9HSm5GuE6x"
      },
      "execution_count": 5,
      "outputs": []
    },
    {
      "cell_type": "markdown",
      "source": [
        "5. Определение мировых координат для 3D точек\n"
      ],
      "metadata": {
        "id": "uosCMKOC6bat"
      }
    },
    {
      "cell_type": "code",
      "source": [
        "objp = np.zeros((1, CHECKERBOARD[0] * CHECKERBOARD[1], 3), np.float32)\n",
        "objp[0,:,:2] = np.mgrid[0:CHECKERBOARD[0], 0:CHECKERBOARD[1]].T.reshape(-1, 2)\n",
        "prev_img_shape = None"
      ],
      "metadata": {
        "id": "mQzF5-Td6fOQ"
      },
      "execution_count": 6,
      "outputs": []
    },
    {
      "cell_type": "markdown",
      "source": [
        "6. Извлечение пути каждого изображения, хранящегося в данном каталоге"
      ],
      "metadata": {
        "id": "4i2Gi08h6pha"
      }
    },
    {
      "cell_type": "code",
      "source": [
        "images = glob.glob('image-processing-lessons/Калибровка/*.JPG')\n",
        "print(images)"
      ],
      "metadata": {
        "id": "o2RAIglDuHH-",
        "colab": {
          "base_uri": "https://localhost:8080/"
        },
        "outputId": "4720a8e0-eb65-4d9a-8689-a7fd77e3e727"
      },
      "execution_count": 13,
      "outputs": [
        {
          "output_type": "stream",
          "name": "stdout",
          "text": [
            "['image-processing-lessons/Калибровка/DSC02701.JPG', 'image-processing-lessons/Калибровка/DSC02712.JPG', 'image-processing-lessons/Калибровка/DSC02711.JPG', 'image-processing-lessons/Калибровка/DSC02700.JPG', 'image-processing-lessons/Калибровка/DSC02709.JPG', 'image-processing-lessons/Калибровка/DSC02703.JPG', 'image-processing-lessons/Калибровка/DSC02715.JPG', 'image-processing-lessons/Калибровка/DSC02707.JPG', 'image-processing-lessons/Калибровка/DSC02704.JPG', 'image-processing-lessons/Калибровка/DSC02717.JPG', 'image-processing-lessons/Калибровка/DSC02714.JPG', 'image-processing-lessons/Калибровка/DSC02710.JPG', 'image-processing-lessons/Калибровка/DSC02698.JPG', 'image-processing-lessons/Калибровка/DSC02699.JPG', 'image-processing-lessons/Калибровка/DSC02708.JPG', 'image-processing-lessons/Калибровка/DSC02705.JPG', 'image-processing-lessons/Калибровка/DSC02718.JPG', 'image-processing-lessons/Калибровка/DSC02706.JPG', 'image-processing-lessons/Калибровка/DSC02713.JPG', 'image-processing-lessons/Калибровка/DSC02696.JPG', 'image-processing-lessons/Калибровка/DSC02697.JPG', 'image-processing-lessons/Калибровка/DSC02702.JPG']\n"
          ]
        }
      ]
    },
    {
      "cell_type": "markdown",
      "source": [
        "7. Нахождение шахматных досок на изображениях"
      ],
      "metadata": {
        "id": "VO8WDmBF9IQT"
      }
    },
    {
      "cell_type": "code",
      "source": [
        "for fname in images:\n",
        "    img = cv2.imread(fname)\n",
        "    gray = cv2.cvtColor(img,cv2.COLOR_BGR2GRAY)\n",
        "    # Найти углы шахматной доски\n",
        "    # Если на изображении найдено нужное количество углов, тогда ret = true\n",
        "    ret, corners = cv2.findChessboardCorners(gray, CHECKERBOARD, cv2.CALIB_CB_ADAPTIVE_THRESH + cv2.CALIB_CB_FAST_CHECK + cv2.CALIB_CB_NORMALIZE_IMAGE)\n",
        "    \n",
        "    \"\"\"\n",
        "    Если желаемый номер угла обнаружен,\n",
        "    уточняем координаты пикселей и отображаем\n",
        "    их на изображениях шахматной доски\n",
        "    \"\"\"\n",
        "    if ret == True:\n",
        "        objpoints.append(objp)\n",
        "        # уточнение координат пикселей для заданных 2d точек.\n",
        "        corners2 = cv2.cornerSubPix(gray, corners, (11,11),(-1,-1), criteria)\n",
        "      \n",
        "        imgpoints.append(corners2)\n",
        "\n",
        "        # Нарисовать и отобразить углы\n",
        "        img = cv2.drawChessboardCorners(img, CHECKERBOARD, corners2, ret)"
      ],
      "metadata": {
        "id": "DEY_McqbuL_D"
      },
      "execution_count": 14,
      "outputs": []
    },
    {
      "cell_type": "markdown",
      "source": [
        "8. Нахождение матриц внутренней калибровки и векторов внешней калибровки камеры"
      ],
      "metadata": {
        "id": "3MiiI7Qb9PtQ"
      }
    },
    {
      "cell_type": "code",
      "source": [
        "h,w = img.shape[:2]\n",
        "\n",
        "\"\"\"\n",
        "Выполнение калибровки камеры с помощью\n",
        "Передача значения известных трехмерных точек (объектов)\n",
        "и соответствующие пиксельные координаты\n",
        "обнаруженные углы (imgpoints)\n",
        "\"\"\"\n",
        "ret, mtx, dist, rvecs, tvecs = cv2.calibrateCamera(objpoints, imgpoints, gray.shape[::-1], None, None)"
      ],
      "metadata": {
        "id": "a5DnPtImuPet",
        "colab": {
          "base_uri": "https://localhost:8080/"
        },
        "outputId": "cd970124-626d-4137-d39b-948f6f7aa74d"
      },
      "execution_count": 15,
      "outputs": [
        {
          "output_type": "stream",
          "name": "stdout",
          "text": [
            "Camera matrix : \n",
            "[[6.05304390e+03 0.00000000e+00 2.54106629e+03]\n",
            " [0.00000000e+00 6.03790774e+03 1.30293219e+03]\n",
            " [0.00000000e+00 0.00000000e+00 1.00000000e+00]]\n",
            "dist : \n",
            "[[-1.75617464e-01  3.62500845e+00  3.27014373e-03  3.28190318e-03\n",
            "  -2.11790229e+01]]\n",
            "rvecs : \n",
            "(array([[ 0.14253079],\n",
            "       [ 0.49760035],\n",
            "       [-1.46534763]]), array([[ 0.4719614 ],\n",
            "       [-0.48683858],\n",
            "       [ 1.51214199]]), array([[ 0.21265419],\n",
            "       [ 0.32576342],\n",
            "       [-1.54874568]]), array([[ 0.25418409],\n",
            "       [ 0.40757497],\n",
            "       [-1.52602739]]), array([[ 0.12259148],\n",
            "       [-0.48170536],\n",
            "       [ 1.49137047]]), array([[ 0.03741832],\n",
            "       [ 0.56015617],\n",
            "       [-1.42965708]]), array([[-0.18425612],\n",
            "       [-0.32930909],\n",
            "       [ 1.54722524]]), array([[ 0.26227936],\n",
            "       [-0.3047019 ],\n",
            "       [ 1.55465791]]), array([[ 0.06934424],\n",
            "       [ 0.50863308],\n",
            "       [-1.45178828]]), array([[ 0.13273162],\n",
            "       [ 0.34120534],\n",
            "       [-1.53727919]]), array([[ 0.23040169],\n",
            "       [-0.69636237],\n",
            "       [ 1.41632795]]), array([[ 0.27236542],\n",
            "       [ 0.30183024],\n",
            "       [-1.54654643]]), array([[ 0.29163701],\n",
            "       [-0.41880229],\n",
            "       [ 1.55165007]]), array([[ 0.24589811],\n",
            "       [ 0.39419253],\n",
            "       [-1.51835604]]), array([[ 0.18746249],\n",
            "       [ 0.35604959],\n",
            "       [-1.53760447]]), array([[-0.03824928],\n",
            "       [-0.80597443],\n",
            "       [ 1.34817102]]), array([[ 0.25052109],\n",
            "       [-0.6111814 ],\n",
            "       [ 1.4974266 ]]), array([[ 0.15124462],\n",
            "       [-0.56792923],\n",
            "       [ 1.49384268]]), array([[ 0.29706618],\n",
            "       [ 0.6263211 ],\n",
            "       [-1.46323282]]), array([[ 0.09401393],\n",
            "       [-0.61331826],\n",
            "       [ 1.45276461]]), array([[ 0.15640634],\n",
            "       [-0.54792819],\n",
            "       [ 1.51171422]]), array([[ 0.11449359],\n",
            "       [ 0.48706854],\n",
            "       [-1.47888512]]))\n",
            "tvecs : \n",
            "(array([[-7.42993952],\n",
            "       [ 4.30122647],\n",
            "       [44.71096096]]), array([[ 5.75805601],\n",
            "       [-1.36248787],\n",
            "       [27.79380441]]), array([[-9.65158301],\n",
            "       [ 4.90336566],\n",
            "       [43.26733668]]), array([[-8.17607566],\n",
            "       [ 4.74698351],\n",
            "       [44.09389422]]), array([[ 5.59241517],\n",
            "       [-4.20438452],\n",
            "       [37.54949232]]), array([[-7.74135456],\n",
            "       [ 4.12483033],\n",
            "       [46.97901238]]), array([[ 6.96558865],\n",
            "       [-4.17689362],\n",
            "       [30.6233645 ]]), array([[ 6.57502485],\n",
            "       [-1.93346832],\n",
            "       [42.0671126 ]]), array([[-7.58813982],\n",
            "       [ 4.31168139],\n",
            "       [47.78933034]]), array([[-9.0163729 ],\n",
            "       [ 3.25328823],\n",
            "       [34.87532001]]), array([[ 6.76323311],\n",
            "       [-3.55547877],\n",
            "       [29.68805234]]), array([[-8.35918279],\n",
            "       [ 5.23375611],\n",
            "       [40.6373608 ]]), array([[ 7.17294622],\n",
            "       [-3.28344254],\n",
            "       [37.43479602]]), array([[-6.31275515],\n",
            "       [ 4.87902847],\n",
            "       [43.66594731]]), array([[-6.88115125],\n",
            "       [ 6.28070836],\n",
            "       [46.92038162]]), array([[ 5.51325351],\n",
            "       [-4.75490474],\n",
            "       [37.13861076]]), array([[ 7.39410811],\n",
            "       [-3.92642341],\n",
            "       [25.70025547]]), array([[ 6.88254801],\n",
            "       [-4.0004485 ],\n",
            "       [37.64771357]]), array([[-9.28823778],\n",
            "       [ 4.49926582],\n",
            "       [34.36860117]]), array([[ 6.39647828],\n",
            "       [-5.06748012],\n",
            "       [39.45304805]]), array([[ 6.36648535],\n",
            "       [-3.54660361],\n",
            "       [38.25030486]]), array([[-8.17562909],\n",
            "       [ 5.19526034],\n",
            "       [45.2178568 ]]))\n"
          ]
        }
      ]
    },
    {
      "cell_type": "markdown",
      "source": [
        "9. Вывод матрицы внутренней калибровки камеры:"
      ],
      "metadata": {
        "id": "gj8JJg4R9fwd"
      }
    },
    {
      "cell_type": "code",
      "source": [
        "print(mtx)"
      ],
      "metadata": {
        "colab": {
          "base_uri": "https://localhost:8080/"
        },
        "id": "5BGz0r8g9m4R",
        "outputId": "f8c469ec-4b55-4461-e750-f46267b54c3e"
      },
      "execution_count": 16,
      "outputs": [
        {
          "output_type": "stream",
          "name": "stdout",
          "text": [
            "[[6.05304390e+03 0.00000000e+00 2.54106629e+03]\n",
            " [0.00000000e+00 6.03790774e+03 1.30293219e+03]\n",
            " [0.00000000e+00 0.00000000e+00 1.00000000e+00]]\n"
          ]
        }
      ]
    },
    {
      "cell_type": "markdown",
      "source": [
        "10. Векторы смещения и поворота (внешняя калибровка камеры)"
      ],
      "metadata": {
        "id": "8SQyxN-99p_3"
      }
    },
    {
      "cell_type": "code",
      "source": [
        "print(tvecs, rvecs, sep=\"\\n-------\\n\")"
      ],
      "metadata": {
        "colab": {
          "base_uri": "https://localhost:8080/"
        },
        "id": "MyjfqePP9vmw",
        "outputId": "9f71ffd4-74a4-4e4d-9235-6886068eae18"
      },
      "execution_count": 18,
      "outputs": [
        {
          "output_type": "stream",
          "name": "stdout",
          "text": [
            "(array([[-7.42993952],\n",
            "       [ 4.30122647],\n",
            "       [44.71096096]]), array([[ 5.75805601],\n",
            "       [-1.36248787],\n",
            "       [27.79380441]]), array([[-9.65158301],\n",
            "       [ 4.90336566],\n",
            "       [43.26733668]]), array([[-8.17607566],\n",
            "       [ 4.74698351],\n",
            "       [44.09389422]]), array([[ 5.59241517],\n",
            "       [-4.20438452],\n",
            "       [37.54949232]]), array([[-7.74135456],\n",
            "       [ 4.12483033],\n",
            "       [46.97901238]]), array([[ 6.96558865],\n",
            "       [-4.17689362],\n",
            "       [30.6233645 ]]), array([[ 6.57502485],\n",
            "       [-1.93346832],\n",
            "       [42.0671126 ]]), array([[-7.58813982],\n",
            "       [ 4.31168139],\n",
            "       [47.78933034]]), array([[-9.0163729 ],\n",
            "       [ 3.25328823],\n",
            "       [34.87532001]]), array([[ 6.76323311],\n",
            "       [-3.55547877],\n",
            "       [29.68805234]]), array([[-8.35918279],\n",
            "       [ 5.23375611],\n",
            "       [40.6373608 ]]), array([[ 7.17294622],\n",
            "       [-3.28344254],\n",
            "       [37.43479602]]), array([[-6.31275515],\n",
            "       [ 4.87902847],\n",
            "       [43.66594731]]), array([[-6.88115125],\n",
            "       [ 6.28070836],\n",
            "       [46.92038162]]), array([[ 5.51325351],\n",
            "       [-4.75490474],\n",
            "       [37.13861076]]), array([[ 7.39410811],\n",
            "       [-3.92642341],\n",
            "       [25.70025547]]), array([[ 6.88254801],\n",
            "       [-4.0004485 ],\n",
            "       [37.64771357]]), array([[-9.28823778],\n",
            "       [ 4.49926582],\n",
            "       [34.36860117]]), array([[ 6.39647828],\n",
            "       [-5.06748012],\n",
            "       [39.45304805]]), array([[ 6.36648535],\n",
            "       [-3.54660361],\n",
            "       [38.25030486]]), array([[-8.17562909],\n",
            "       [ 5.19526034],\n",
            "       [45.2178568 ]]))\n",
            "-------\n",
            "(array([[ 0.14253079],\n",
            "       [ 0.49760035],\n",
            "       [-1.46534763]]), array([[ 0.4719614 ],\n",
            "       [-0.48683858],\n",
            "       [ 1.51214199]]), array([[ 0.21265419],\n",
            "       [ 0.32576342],\n",
            "       [-1.54874568]]), array([[ 0.25418409],\n",
            "       [ 0.40757497],\n",
            "       [-1.52602739]]), array([[ 0.12259148],\n",
            "       [-0.48170536],\n",
            "       [ 1.49137047]]), array([[ 0.03741832],\n",
            "       [ 0.56015617],\n",
            "       [-1.42965708]]), array([[-0.18425612],\n",
            "       [-0.32930909],\n",
            "       [ 1.54722524]]), array([[ 0.26227936],\n",
            "       [-0.3047019 ],\n",
            "       [ 1.55465791]]), array([[ 0.06934424],\n",
            "       [ 0.50863308],\n",
            "       [-1.45178828]]), array([[ 0.13273162],\n",
            "       [ 0.34120534],\n",
            "       [-1.53727919]]), array([[ 0.23040169],\n",
            "       [-0.69636237],\n",
            "       [ 1.41632795]]), array([[ 0.27236542],\n",
            "       [ 0.30183024],\n",
            "       [-1.54654643]]), array([[ 0.29163701],\n",
            "       [-0.41880229],\n",
            "       [ 1.55165007]]), array([[ 0.24589811],\n",
            "       [ 0.39419253],\n",
            "       [-1.51835604]]), array([[ 0.18746249],\n",
            "       [ 0.35604959],\n",
            "       [-1.53760447]]), array([[-0.03824928],\n",
            "       [-0.80597443],\n",
            "       [ 1.34817102]]), array([[ 0.25052109],\n",
            "       [-0.6111814 ],\n",
            "       [ 1.4974266 ]]), array([[ 0.15124462],\n",
            "       [-0.56792923],\n",
            "       [ 1.49384268]]), array([[ 0.29706618],\n",
            "       [ 0.6263211 ],\n",
            "       [-1.46323282]]), array([[ 0.09401393],\n",
            "       [-0.61331826],\n",
            "       [ 1.45276461]]), array([[ 0.15640634],\n",
            "       [-0.54792819],\n",
            "       [ 1.51171422]]), array([[ 0.11449359],\n",
            "       [ 0.48706854],\n",
            "       [-1.47888512]]))\n"
          ]
        }
      ]
    }
  ]
}